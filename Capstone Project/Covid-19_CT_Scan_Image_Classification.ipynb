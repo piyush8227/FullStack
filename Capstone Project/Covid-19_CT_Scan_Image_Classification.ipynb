{
 "cells": [
  {
   "cell_type": "markdown",
   "id": "aac76281",
   "metadata": {},
   "source": [
    "# **CT Scan Image Classification**\n",
    "\n",
    "**Dataset Information:-**\n",
    "1. This dataset contains 1252 CT scans that are positive for SARS-CoV-2 infection (COVID-19) and 1230 CT scans for patients non-infected by SARS-CoV-2, 2482 CT scans in total. \n",
    "2. These data have been collected from real patients in hospitals from Sao Paulo, Brazil. \n",
    "3. The aim of this dataset is to encourage the research and development of artificial intelligent methods which are able to identify if a person is infected by SARS-CoV-2 through the analysis of his/her CT scans."
   ]
  },
  {
   "cell_type": "markdown",
   "id": "b0538700",
   "metadata": {},
   "source": [
    "## **Importing Libraries**"
   ]
  },
  {
   "cell_type": "code",
   "execution_count": 1,
   "id": "98cee232",
   "metadata": {},
   "outputs": [],
   "source": [
    "import numpy as np\n",
    "import matplotlib.pyplot as plt\n",
    "import seaborn as sns\n",
    "import os\n",
    "from PIL import Image\n",
    "import tensorflow as tf\n",
    "from tensorflow.keras.preprocessing.image import img_to_array\n",
    "from tensorflow.keras.preprocessing.image import ImageDataGenerator\n",
    "from sklearn.model_selection import train_test_split\n",
    "from tensorflow.keras.applications import ResNet50\n",
    "from tensorflow.keras.models import Model, load_model\n",
    "from tensorflow.keras.layers import Dense, GlobalAveragePooling2D\n",
    "from tensorflow.keras.callbacks import EarlyStopping, ModelCheckpoint\n",
    "from sklearn.metrics import accuracy_score, precision_score, recall_score, f1_score, confusion_matrix"
   ]
  },
  {
   "cell_type": "markdown",
   "id": "1cfb1511",
   "metadata": {},
   "source": [
    "## **1: Data Preprocessing**"
   ]
  },
  {
   "cell_type": "markdown",
   "id": "1a91e7e6",
   "metadata": {},
   "source": [
    "### **1.1 Loading the images**"
   ]
  },
  {
   "cell_type": "code",
   "execution_count": 2,
   "id": "d25fc456",
   "metadata": {},
   "outputs": [],
   "source": [
    "data_dir = 'data'\n",
    "\n",
    "covid_dir = os.path.join(data_dir, 'COVID')\n",
    "non_covid_dir = os.path.join(data_dir, 'non-COVID')\n",
    "\n",
    "covid_images = []\n",
    "non_covid_images = []\n",
    "\n",
    "for filename in os.listdir(covid_dir):\n",
    "    img_path = os.path.join(covid_dir, filename)\n",
    "    img = Image.open(img_path)\n",
    "    covid_images.append(img)\n",
    "\n",
    "for filename in os.listdir(non_covid_dir):\n",
    "    img_path = os.path.join(non_covid_dir, filename)\n",
    "    img = Image.open(img_path)\n",
    "    non_covid_images.append(img)"
   ]
  },
  {
   "cell_type": "markdown",
   "id": "67d4d25a",
   "metadata": {},
   "source": [
    "### **1.2 Resizing images and Normalizing image data**"
   ]
  },
  {
   "cell_type": "code",
   "execution_count": 3,
   "id": "12e9b17e",
   "metadata": {},
   "outputs": [],
   "source": [
    "# Fixed size of (224, 224) for resizing the images\n",
    "image_size = (224, 224)\n",
    "\n",
    "# Converting images to RGB mode and resizing them\n",
    "covid_images = [img.convert('RGB').resize(image_size) for img in covid_images]\n",
    "non_covid_images = [img.convert('RGB').resize(image_size) for img in non_covid_images]\n",
    "\n",
    "# Converting the images to arrays and normalizing the pixel values\n",
    "covid_data = np.array([img_to_array(img)/255.0 for img in covid_images])\n",
    "non_covid_data = np.array([img_to_array(img)/255.0 for img in non_covid_images])\n",
    "\n",
    "# Here covid_data and non_covid_data now contains the preprocessed and normalized image data."
   ]
  },
  {
   "cell_type": "markdown",
   "id": "d38ebaa9",
   "metadata": {},
   "source": [
    "## **2: Data Augmentation**"
   ]
  },
  {
   "cell_type": "code",
   "execution_count": 4,
   "id": "48dfac76",
   "metadata": {},
   "outputs": [],
   "source": [
    "# Defining all data augmentation parameters\n",
    "datagen = ImageDataGenerator(\n",
    "    rotation_range=20,        # Random rotation (±20 degrees)\n",
    "    width_shift_range=0.2,    # Random horizontal shift (±20% of image width)\n",
    "    height_shift_range=0.2,   # Random vertical shift (±20% of image height)\n",
    "    shear_range=0.2,          # Random shear\n",
    "    zoom_range=0.2,           # Random zoom\n",
    "    horizontal_flip=True      # Random horizontal flip\n",
    ")\n",
    "\n",
    "# Fitting the data augmentation generator on the data\n",
    "datagen.fit(covid_data)\n",
    "datagen.fit(non_covid_data)"
   ]
  },
  {
   "cell_type": "code",
   "execution_count": null,
   "id": "e8f491c2",
   "metadata": {},
   "outputs": [],
   "source": []
  }
 ],
 "metadata": {
  "kernelspec": {
   "display_name": "Python 3 (ipykernel)",
   "language": "python",
   "name": "python3"
  },
  "language_info": {
   "codemirror_mode": {
    "name": "ipython",
    "version": 3
   },
   "file_extension": ".py",
   "mimetype": "text/x-python",
   "name": "python",
   "nbconvert_exporter": "python",
   "pygments_lexer": "ipython3",
   "version": "3.9.13"
  }
 },
 "nbformat": 4,
 "nbformat_minor": 5
}
